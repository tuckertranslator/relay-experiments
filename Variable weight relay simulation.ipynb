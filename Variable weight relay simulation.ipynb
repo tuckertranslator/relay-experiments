{
 "cells": [
  {
   "cell_type": "markdown",
   "metadata": {},
   "source": [
    "Simulation of variable weight constant liquidity relay, in which stakers can stake assets with custom weightedness, and the contract will maintain the individual ratios of all stakers, using:\n",
    "1. A self-adjusting global relay weightedness (important for ensuring swaps are executed correctly)\n",
    "2. Issuance of n-sets of liquidity tokens for an n-asset relay\n",
    "\n",
    "This simulation uses and ETH:token relay (analagous to ETH:DAI). It is a 2-asset relay, and therefore will use 2 sets of liqiuidity tokens, minted and distributed to stakers. "
   ]
  },
  {
   "cell_type": "code",
   "execution_count": 170,
   "metadata": {},
   "outputs": [
    {
     "name": "stdout",
     "output_type": "stream",
     "text": [
      "V: 1294.4657245891717\n",
      "SP: 171.0\n",
      "ETH_lt: 1000\n",
      "token_lt: 17100\n"
     ]
    }
   ],
   "source": [
    "#In this version, liquidity tokens ($_ETH_lt, $_token_lt) are issued directly prop. to ETH and tokens staked\n",
    "\n",
    "e = 2.7182818284590 #Euler's constant, for log. operations\n",
    "\n",
    "ETH_balance = 1000 #initial ETH balance\n",
    "ETH_weight = 0.9090909090909091 #normalized weight of ETH\n",
    "token_balance = 17100 #initial token balance\n",
    "token_weight = 0.09090909090909091 #normalized weight of tokens\n",
    "\n",
    "V = ETH_balance^ETH_weight * token_balance^token_weight #formula from Balancer whitepaper\n",
    "SP = (token_balance/token_weight) / (ETH_balance/ETH_weight) #spot price\n",
    "\n",
    "ETH_lt = ETH_balance #initial ETH liquidity tokens\n",
    "token_lt = token_balance #initial token liquidity tokens\n",
    "\n",
    "println(\"V: \", V)\n",
    "println(\"SP: \", SP)\n",
    "println(\"ETH_lt: \", ETH_lt)\n",
    "println(\"token_lt: \", token_lt)"
   ]
  },
  {
   "cell_type": "code",
   "execution_count": 171,
   "metadata": {},
   "outputs": [
    {
     "name": "stdout",
     "output_type": "stream",
     "text": [
      "ETH_weight: 0.8963414634146342\n",
      "token_weight: 0.10365853658536586\n",
      "\n",
      "ETH liq. tokens: 50\n",
      "token liq. tokens: 3664.285714285715\n",
      "\n",
      "Spot price: 171.0\n"
     ]
    }
   ],
   "source": [
    "#add stake with CUSTOM weighting\n",
    "#V should change, price (SP) should remain the same\n",
    "#mint new ETH_lt, token_LT\n",
    "\n",
    "custom_weight = (0.7,0.3) #custom weights (ETH,token)\n",
    "ETH_add = 50 #how much ETH to stake\n",
    "token_add = (ETH_add*SP) * ((1-custom_weight[1])/custom_weight[1]) #how many tokens to stake, acc. to weights\n",
    "ETH_balance += ETH_add #add stake to ETH pool\n",
    "token_balance += token_add #add token stake to token pool\n",
    "\n",
    "ETH_weight = 1 - (1/((ETH_balance * SP / token_balance )+1)) #update ETH weight (weighted mean)\n",
    "token_weight = 1/((ETH_balance * SP / token_balance )+1) #update token weight (weighted mean)\n",
    "\n",
    "V = ETH_balance^ETH_weight * token_balance^token_weight #update invariant (it should change)\n",
    "\n",
    "ETH_lt += ETH_add #update ETH liq. token pool\n",
    "token_lt += token_add #update token liq. token pool\n",
    "\n",
    "my_ETH_lt = ETH_add #how many liq. tokens go to staker\n",
    "my_token_lt = token_add #how many liq. tokens go to staker\n",
    "\n",
    "println(\"ETH_weight: \", ETH_weight) #updated weight\n",
    "println(\"token_weight: \", token_weight) #updated weight\n",
    "println()\n",
    "println(\"ETH liq. tokens: \", my_ETH_lt) #staker's ETH liq. tokens\n",
    "println(\"token liq. tokens: \", my_token_lt) #staker's token liq. tokens\n",
    "println()\n",
    "\n",
    "#check spot price (should be same)\n",
    "SP = (token_balance/token_weight) / (ETH_balance/ETH_weight) \n",
    "println(\"Spot price: \", SP)"
   ]
  },
  {
   "cell_type": "code",
   "execution_count": 172,
   "metadata": {},
   "outputs": [
    {
     "name": "stdout",
     "output_type": "stream",
     "text": [
      "ETH_weight: 0.7951456310679612\n",
      "token_weight: 0.20485436893203882\n",
      "\n",
      "ETH liq. tokens: 120\n",
      "token liq. tokens: 30779.999999999996\n",
      "\n",
      "Spot price: 171.0\n"
     ]
    }
   ],
   "source": [
    "#add another stake with CUSTOM weighting (same as above, just a new stake)\n",
    "#V should change, price should remain the same\n",
    "#mint new ETH_lt, token_LT\n",
    "\n",
    "custom_weight = (0.4, 0.6) #custom weights (ETH,token)\n",
    "ETH_add = 120 #how much ETH to stake\n",
    "token_add = (ETH_add*SP) * ((1-custom_weight[1])/custom_weight[1])\n",
    "ETH_balance += ETH_add #update ETH liquidity pool\n",
    "token_balance += token_add #update token liquidity pool\n",
    "\n",
    "ETH_weight = 1 - (1/((ETH_balance * SP / token_balance )+1)) #update ETH weight\n",
    "token_weight = 1/((ETH_balance * SP / token_balance )+1) #update token weight\n",
    "\n",
    "V = ETH_balance^ETH_weight * token_balance^token_weight #update invariant\n",
    "\n",
    "ETH_lt += ETH_add\n",
    "token_lt += token_add\n",
    "\n",
    "your_ETH_lt = ETH_add #new staker's ETH liq. tokens\n",
    "your_token_lt = token_add #staker's token liq. tokens\n",
    "\n",
    "println(\"ETH_weight: \", ETH_weight)\n",
    "println(\"token_weight: \", token_weight)\n",
    "println()\n",
    "println(\"ETH liq. tokens: \", your_ETH_lt)\n",
    "println(\"token liq. tokens: \", your_token_lt)\n",
    "println()\n",
    "\n",
    "#check spot price (should not change from staking)\n",
    "SP = (token_balance/token_weight) / (ETH_balance/ETH_weight) \n",
    "println(\"Spot price: \", SP)"
   ]
  },
  {
   "cell_type": "code",
   "execution_count": 173,
   "metadata": {},
   "outputs": [
    {
     "name": "stdout",
     "output_type": "stream",
     "text": [
      "true\n",
      "true\n",
      "true"
     ]
    }
   ],
   "source": [
    "#Verify that original staker still has originally-weighted assets and balances (see above for values)\n",
    "show(my_ETH_lt/ETH_lt * ETH_balance == 50)\n",
    "println()\n",
    "show(my_token_lt/token_lt * token_balance == 3664.285714285715)\n",
    "println()\n",
    "show(round((my_token_lt/token_lt * token_balance) / ((my_ETH_lt/ETH_lt * ETH_balance)*SP), digits = 5) ==\n",
    "    round(0.3/0.7, digits = 5))"
   ]
  },
  {
   "cell_type": "code",
   "execution_count": 174,
   "metadata": {},
   "outputs": [
    {
     "name": "stdout",
     "output_type": "stream",
     "text": [
      "ETH_weight: 0.7400881057268722\n",
      "token_weight: 0.2599118942731278\n",
      "\n",
      "ETH liq. tokens: 120\n",
      "token liq. tokens: 30779.999999999996\n",
      "\n",
      "Spot price: 170.99999999999997\n"
     ]
    }
   ],
   "source": [
    "#add another stake with CUSTOM weighting\n",
    "#V should change, price should remain the same\n",
    "#mint new ETH_lt, token_LT\n",
    "\n",
    "custom_weight = (0.2, 0.8) #custom weights (ETH,token)\n",
    "ETH_add = 30 #how much ETH to stake\n",
    "token_add = (ETH_add*SP) * ((1-custom_weight[1])/custom_weight[1])\n",
    "ETH_balance += ETH_add #update ETH liquidity pool\n",
    "token_balance += token_add #update token liquidity pool\n",
    "\n",
    "ETH_weight = 1 - (1/((ETH_balance * SP / token_balance )+1)) #update ETH weight\n",
    "token_weight = 1/((ETH_balance * SP / token_balance )+1) #update token weight\n",
    "\n",
    "V = ETH_balance^ETH_weight * token_balance^token_weight #update invariant\n",
    "\n",
    "ETH_lt += ETH_add\n",
    "token_lt += token_add\n",
    "\n",
    "her_ETH_lt = ETH_add #new staker's ETH liq. tokens\n",
    "her_token_lt = token_add #new staker's token liq. tokens\n",
    "\n",
    "println(\"ETH_weight: \", ETH_weight)\n",
    "println(\"token_weight: \", token_weight)\n",
    "println()\n",
    "println(\"ETH liq. tokens: \", your_ETH_lt)\n",
    "println(\"token liq. tokens: \", your_token_lt)\n",
    "println()\n",
    "\n",
    "#check spot price (should not change from staking)\n",
    "SP = (token_balance/token_weight) / (ETH_balance/ETH_weight) \n",
    "println(\"Spot price: \", SP)"
   ]
  },
  {
   "cell_type": "code",
   "execution_count": 186,
   "metadata": {},
   "outputs": [
    {
     "name": "stdout",
     "output_type": "stream",
     "text": [
      "true\n",
      "true\n",
      "true"
     ]
    }
   ],
   "source": [
    "#Verify that second staker still has originally-weighted assets and balances (see above for values)\n",
    "show(your_ETH_lt/ETH_lt * ETH_balance == 120)\n",
    "println()\n",
    "show(your_token_lt/token_lt * token_balance == 30779.999999999996)\n",
    "println()\n",
    "show(round(((your_ETH_lt/ETH_lt * ETH_balance)*SP) / (your_token_lt/token_lt * token_balance), digits = 5) ==\n",
    "    round(0.4/0.6, digits = 5))"
   ]
  },
  {
   "cell_type": "code",
   "execution_count": 187,
   "metadata": {},
   "outputs": [
    {
     "name": "stdout",
     "output_type": "stream",
     "text": [
      "Tokens sold: 5000\n",
      "ETH received: 27.93961048900792\n",
      "\n",
      "V: 3478.921626843823\n",
      "SP: 187.22353395727927\n"
     ]
    }
   ],
   "source": [
    "#Does it work with swaps?\n",
    "\n",
    "#sell tokens (buy ETH)\n",
    "\n",
    "V = ETH_balance^ETH_weight * token_balance^token_weight #update invariant (should not change from swap)\n",
    "\n",
    "sale = 5000 #how many tokens to send to contract (swap for ETH)\n",
    "token_balance += sale #add sale tokens to contract\n",
    "old_ETH_balance = ETH_balance #store for calculation below\n",
    "ETH_balance = e^((log(V / (token_balance^token_weight)))/ETH_weight) #update ETH balance according to sale\n",
    "ETH_received = old_ETH_balance - ETH_balance #ETH received for swapped tokens\n",
    "println(\"Tokens sold: \", sale)\n",
    "println(\"ETH received: \", ETH_received)\n",
    "println()\n",
    "\n",
    "V = ETH_balance^ETH_weight * token_balance^token_weight #update invariant (should not chance)\n",
    "SP = (token_balance/token_weight) / (ETH_balance/ETH_weight) \n",
    "println(\"V: \", V)\n",
    "println(\"SP: \", SP)"
   ]
  },
  {
   "cell_type": "code",
   "execution_count": 134,
   "metadata": {},
   "outputs": [
    {
     "data": {
      "text/plain": [
       "1172.060389510992"
      ]
     },
     "execution_count": 134,
     "metadata": {},
     "output_type": "execute_result"
    }
   ],
   "source": [
    "ETH_balance"
   ]
  },
  {
   "cell_type": "code",
   "execution_count": 135,
   "metadata": {},
   "outputs": [
    {
     "data": {
      "text/plain": [
       "21943.728813559323"
      ]
     },
     "execution_count": 135,
     "metadata": {},
     "output_type": "execute_result"
    }
   ],
   "source": [
    "her_token_lt/token_lt * token_balance"
   ]
  },
  {
   "cell_type": "code",
   "execution_count": 136,
   "metadata": {},
   "outputs": [
    {
     "data": {
      "text/plain": [
       "5485.932203389831"
      ]
     },
     "execution_count": 136,
     "metadata": {},
     "output_type": "execute_result"
    }
   ],
   "source": [
    "her_ETH_lt/ETH_lt * ETH_balance * SP"
   ]
  },
  {
   "cell_type": "code",
   "execution_count": 137,
   "metadata": {},
   "outputs": [
    {
     "data": {
      "text/plain": [
       "0.25"
      ]
     },
     "execution_count": 137,
     "metadata": {},
     "output_type": "execute_result"
    }
   ],
   "source": [
    "5485.932203389831 / 21943.728813559323"
   ]
  },
  {
   "cell_type": "code",
   "execution_count": 195,
   "metadata": {},
   "outputs": [
    {
     "name": "stdout",
     "output_type": "stream",
     "text": [
      "true\n",
      "true\n",
      "true"
     ]
    }
   ],
   "source": [
    "#Verify that original staker still has originally-weighted assets and balances (see above for values)\n",
    "#balances will have changed b/c of swap, but weithed ratio should remain constant\n",
    "show(round((my_token_lt/token_lt * token_balance) / ((my_ETH_lt/ETH_lt * ETH_balance)*SP), digits = 5) ==\n",
    "    round(0.3/0.7, digits = 5))\n",
    "\n",
    "println()\n",
    "\n",
    "#Verify that second staker still has originally-weighted assets and balances (see above for values)\n",
    "#balances will have changed b/c of swap, but weithed ratio should remain constant\n",
    "show(round(((your_ETH_lt/ETH_lt * ETH_balance)*SP) / (your_token_lt/token_lt * token_balance), digits = 5) ==\n",
    "    round(0.4/0.6, digits = 5))\n",
    "\n",
    "println()\n",
    "\n",
    "#Verify that third staker still has originally-weighted assets and balances (see above for values)\n",
    "#balances will have changed b/c of swap, but weithed ratio should remain constant\n",
    "show(round(((her_ETH_lt/ETH_lt * ETH_balance)*SP) / (her_token_lt/token_lt * token_balance), digits = 5) ==\n",
    "    round(0.2/0.8, digits = 5))"
   ]
  },
  {
   "cell_type": "code",
   "execution_count": 196,
   "metadata": {},
   "outputs": [
    {
     "name": "stdout",
     "output_type": "stream",
     "text": [
      "ETH sold: 5\n",
      "tokens received: 928.4879426185798\n",
      "\n",
      "V: 3478.921626843653\n",
      "SP: 184.1821031389585\n"
     ]
    }
   ],
   "source": [
    "#sell ETH (buy tokens)\n",
    "V = ETH_balance^ETH_weight * token_balance^token_weight #update invariant (should not change from swap)\n",
    "\n",
    "sale = 5 #how much ETH sent to contract (swapped for tokens)\n",
    "old_token_balance = token_balance #store for calculation below\n",
    "ETH_balance += sale \n",
    "token_balance = e^((log(V / (ETH_balance^ETH_weight)))/token_weight) #update token balance according to sale\n",
    "tokens_received = old_token_balance - token_balance\n",
    "println(\"ETH sold: \", sale)\n",
    "println(\"tokens received: \", tokens_received)\n",
    "println()\n",
    "\n",
    "V = ETH_balance^ETH_weight * token_balance^token_weight\n",
    "SP = (token_balance/token_weight) / (ETH_balance/ETH_weight) \n",
    "println(\"V: \", V)\n",
    "println(\"SP: \", SP)"
   ]
  },
  {
   "cell_type": "code",
   "execution_count": 197,
   "metadata": {},
   "outputs": [
    {
     "name": "stdout",
     "output_type": "stream",
     "text": [
      "true\n",
      "true\n",
      "true"
     ]
    }
   ],
   "source": [
    "#Verify that original staker still has originally-weighted assets and balances (see above for values)\n",
    "#balances will have changed b/c of swap, but weithed ratio should remain constant\n",
    "show(round((my_token_lt/token_lt * token_balance) / ((my_ETH_lt/ETH_lt * ETH_balance)*SP), digits = 5) ==\n",
    "    round(0.3/0.7, digits = 5))\n",
    "\n",
    "println()\n",
    "\n",
    "#Verify that second staker still has originally-weighted assets and balances (see above for values)\n",
    "#balances will have changed b/c of swap, but weithed ratio should remain constant\n",
    "show(round(((your_ETH_lt/ETH_lt * ETH_balance)*SP) / (your_token_lt/token_lt * token_balance), digits = 5) ==\n",
    "    round(0.4/0.6, digits = 5))\n",
    "\n",
    "println()\n",
    "\n",
    "#Verify that third staker still has originally-weighted assets and balances (see above for values)\n",
    "#balances will have changed b/c of swap, but weithed ratio should remain constant\n",
    "show(round(((her_ETH_lt/ETH_lt * ETH_balance)*SP) / (her_token_lt/token_lt * token_balance), digits = 5) ==\n",
    "    round(0.2/0.8, digits = 5))"
   ]
  }
 ],
 "metadata": {
  "kernelspec": {
   "display_name": "Julia 1.1.1",
   "language": "julia",
   "name": "julia-1.1"
  },
  "language_info": {
   "file_extension": ".jl",
   "mimetype": "application/julia",
   "name": "julia",
   "version": "1.1.1"
  }
 },
 "nbformat": 4,
 "nbformat_minor": 2
}
