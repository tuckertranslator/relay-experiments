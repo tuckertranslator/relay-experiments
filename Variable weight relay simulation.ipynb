{
 "cells": [
  {
   "cell_type": "markdown",
   "metadata": {},
   "source": [
    "Simulation of variable weight constant liquidity relay, in which stakers can stake assets with custom weightedness, and the contract will maintain the individual ratios of all stakers, using:\n",
    "1. A self-adjusting global relay weightedness (important for ensuring swaps are executed correctly)\n",
    "2. Issuance of n-sets of liquidity tokens for an n-asset relay\n",
    "\n",
    "This simulation uses and ETH:token relay (analagous to ETH:DAI). It is a 2-asset relay, and therefore will use 2 sets of liqiuidity tokens, minted and distributed to stakers. \n",
    "\n",
    "Something to consider: floating point and logarithmic calculations are a challenge to emulate in EVM. "
   ]
  },
  {
   "cell_type": "code",
   "execution_count": 219,
   "metadata": {},
   "outputs": [
    {
     "name": "stdout",
     "output_type": "stream",
     "text": [
      "V: 13069.239821127008\n",
      "SP: 190.0\n",
      "ETH liq. tokens minted: 10000\n",
      "Token liq. tokens minted: 190000\n"
     ]
    }
   ],
   "source": [
    "#In this version, liquidity tokens ($_ETH_lt, $_token_lt) are issued directly prop. to ETH and tokens staked\n",
    "\n",
    "e = 2.7182818 #Euler's constant, for log operations\n",
    "\n",
    "ETH_balance = 10000 #initial ETH balance\n",
    "ETH_weight = 0.9090909090909091 #initial normalized weight of ETH (currentl @ 10:1 ETH:token)\n",
    "token_balance = 190000 #initial token balance (chosen to emulate current ETH:DAI price, arbitrarily)\n",
    "token_weight = 0.09090909090909091 #initial normalized weight of tokens\n",
    "\n",
    "V = ETH_balance^ETH_weight * token_balance^token_weight #formula from Balancer whitepaper\n",
    "SP = (token_balance/token_weight) / (ETH_balance/ETH_weight) #spot price\n",
    "\n",
    "ETH_lt = ETH_balance #initial ETH liquidity tokens minted\n",
    "token_lt = token_balance #initial token liquidity tokens minted\n",
    "\n",
    "println(\"V: \", V)\n",
    "println(\"SP: \", SP)\n",
    "println(\"ETH liq. tokens minted: \", ETH_lt)\n",
    "println(\"Token liq. tokens minted: \", token_lt)"
   ]
  },
  {
   "cell_type": "code",
   "execution_count": 220,
   "metadata": {},
   "outputs": [
    {
     "name": "stdout",
     "output_type": "stream",
     "text": [
      "ETH_weight: 0.9077419354838709\n",
      "token_weight: 0.09225806451612904\n",
      "\n",
      "ETH liq. tokens: 50\n",
      "token liq. tokens: 4071.4285714285716\n",
      "Stake value: 13571.428571428572\n",
      "\n",
      "Spot price: 190.0\n"
     ]
    }
   ],
   "source": [
    "#add stake with CUSTOM weighting — staker A\n",
    "#V should change, price (SP) should remain the same\n",
    "#mint new ETH_lt, token_LT\n",
    "\n",
    "A_weight = (0.7,0.3) #custom weights (ETH,token)\n",
    "A_ETH_stake = 50 #how much ETH to stake\n",
    "A_token_stake = (A_ETH_stake*SP) * (A_weight[2]/A_weight[1]) #how many tokens to stake, acc. to weights\n",
    "ETH_balance += A_ETH_stake #add stake to ETH pool\n",
    "token_balance += A_token_stake #add token stake to token pool\n",
    "\n",
    "ETH_weight = 1 - (1/((ETH_balance * SP / token_balance )+1)) #update ETH weight (weighted mean)\n",
    "token_weight = 1/((ETH_balance * SP / token_balance )+1) #update token weight (weighted mean)\n",
    "\n",
    "V = ETH_balance^ETH_weight * token_balance^token_weight #update invariant (it should change)\n",
    "\n",
    "ETH_lt += A_ETH_stake #update ETH liq. token pool\n",
    "token_lt += A_token_stake #update token liq. token pool\n",
    "\n",
    "A_ETH_lt = A_ETH_stake #how many liq. tokens go to staker A\n",
    "A_token_lt = A_token_stake #how many liq. tokens go to staker A\n",
    "\n",
    "A_stake = (A_token_lt/token_lt * token_balance) + ((A_ETH_lt/ETH_lt * ETH_balance)*SP) #cumulative value of original stake\n",
    "\n",
    "println(\"ETH_weight: \", ETH_weight) #updated weight\n",
    "println(\"token_weight: \", token_weight) #updated weight\n",
    "println()\n",
    "println(\"ETH liq. tokens: \", A_ETH_lt) #staker's ETH liq. tokens\n",
    "println(\"token liq. tokens: \", A_token_lt) #staker's token liq. tokens\n",
    "println(\"Stake value: \", A_stake)\n",
    "println()\n",
    "\n",
    "#check spot price (should be same)\n",
    "SP = (token_balance/token_weight) / (ETH_balance/ETH_weight) \n",
    "println(\"Spot price: \", SP)"
   ]
  },
  {
   "cell_type": "code",
   "execution_count": 221,
   "metadata": {},
   "outputs": [
    {
     "name": "stdout",
     "output_type": "stream",
     "text": [
      "ETH_weight: 0.8755287009063444\n",
      "token_weight: 0.12447129909365559\n",
      "\n",
      "ETH liq. tokens: 300\n",
      "token liq. tokens: 85499.99999999999\n",
      "Stake value: 142500.0\n",
      "\n",
      "Spot price: 190.0\n"
     ]
    }
   ],
   "source": [
    "#add another stake with CUSTOM weighting (same as above, just a new stake) — staker B\n",
    "#V should change, price should remain the same\n",
    "#mint new ETH_lt, token_LT\n",
    "\n",
    "B_weight = (0.4, 0.6) #custom weights (ETH,token)\n",
    "B_ETH_stake = 300 #how much ETH to stake\n",
    "B_token_stake = (B_ETH_stake*SP) * (B_weight[2]/B_weight[1])\n",
    "ETH_balance += B_ETH_stake #update ETH liquidity pool\n",
    "token_balance += B_token_stake #update token liquidity pool\n",
    "\n",
    "ETH_weight = 1 - (1/((ETH_balance * SP / token_balance )+1)) #update ETH weight\n",
    "token_weight = 1/((ETH_balance * SP / token_balance )+1) #update token weight\n",
    "\n",
    "V = ETH_balance^ETH_weight * token_balance^token_weight #update invariant\n",
    "\n",
    "ETH_lt += B_ETH_stake\n",
    "token_lt += B_token_stake\n",
    "\n",
    "B_ETH_lt = B_ETH_stake #new staker's ETH liq. tokens\n",
    "B_token_lt = B_token_stake #staker's token liq. tokens\n",
    "B_stake = (B_token_lt/token_lt * token_balance) + ((B_ETH_lt/ETH_lt * ETH_balance)*SP) #cumulative value of original stake\n",
    "\n",
    "println(\"ETH_weight: \", ETH_weight)\n",
    "println(\"token_weight: \", token_weight)\n",
    "println()\n",
    "println(\"ETH liq. tokens: \", B_ETH_lt)\n",
    "println(\"token liq. tokens: \", B_token_lt)\n",
    "println(\"Stake value: \", B_stake)\n",
    "println()\n",
    "\n",
    "#check spot price (should not change from staking)\n",
    "SP = (token_balance/token_weight) / (ETH_balance/ETH_weight) \n",
    "println(\"Spot price: \", SP)"
   ]
  },
  {
   "cell_type": "code",
   "execution_count": 222,
   "metadata": {},
   "outputs": [
    {
     "name": "stdout",
     "output_type": "stream",
     "text": [
      "true\n",
      "true\n",
      "true"
     ]
    }
   ],
   "source": [
    "#Verify that staker A still has originally-weighted assets and balances (see above for values)\n",
    "show(A_ETH_lt/ETH_lt * ETH_balance == A_ETH_stake)\n",
    "println()\n",
    "show(A_token_lt/token_lt * token_balance == A_token_stake)\n",
    "println()\n",
    "show(round((A_token_lt/token_lt * token_balance) / ((A_ETH_lt/ETH_lt * ETH_balance)*SP), digits = 5) ==\n",
    "    round(A_weight[2]/A_weight[1], digits = 5))"
   ]
  },
  {
   "cell_type": "code",
   "execution_count": 223,
   "metadata": {},
   "outputs": [
    {
     "name": "stdout",
     "output_type": "stream",
     "text": [
      "ETH_weight: 0.8561032863849765\n",
      "token_weight: 0.14389671361502349\n",
      "\n",
      "ETH liq. tokens: 300\n",
      "token liq. tokens: 76949.99999999997\n",
      "Stake value: 66500.0\n",
      "\n",
      "Spot price: 190.0\n"
     ]
    }
   ],
   "source": [
    "#add another stake with CUSTOM weighting — staker C\n",
    "#V should change, price should remain the same\n",
    "#mint new ETH_lt, token_LT\n",
    "\n",
    "C_weight = (0.2, 0.8) #custom weights (ETH,token)\n",
    "C_ETH_stake = 70 #how much ETH to stake\n",
    "C_token_stake = (C_ETH_stake*SP) * (C_weight[2]/C_weight[1])\n",
    "ETH_balance += C_ETH_stake #update ETH liquidity pool\n",
    "token_balance += C_token_stake #update token liquidity pool\n",
    "\n",
    "ETH_weight = 1 - (1/((ETH_balance * SP / token_balance )+1)) #update ETH weight\n",
    "token_weight = 1/((ETH_balance * SP / token_balance )+1) #update token weight\n",
    "\n",
    "V = ETH_balance^ETH_weight * token_balance^token_weight #update invariant\n",
    "\n",
    "ETH_lt += C_ETH_stake\n",
    "token_lt += C_token_stake\n",
    "\n",
    "C_ETH_lt = C_ETH_stake #new staker's ETH liq. tokens\n",
    "C_token_lt = C_token_stake #new staker's token liq. tokens\n",
    "C_stake = (C_token_lt/token_lt * token_balance) + ((C_ETH_lt/ETH_lt * ETH_balance)*SP) #cumulative value of original stake\n",
    "\n",
    "println(\"ETH_weight: \", ETH_weight)\n",
    "println(\"token_weight: \", token_weight)\n",
    "println()\n",
    "println(\"ETH liq. tokens: \", your_ETH_lt)\n",
    "println(\"token liq. tokens: \", your_token_lt)\n",
    "println(\"Stake value: \", C_stake)\n",
    "println()\n",
    "\n",
    "#check spot price (should not change from staking)\n",
    "SP = (token_balance/token_weight) / (ETH_balance/ETH_weight) \n",
    "println(\"Spot price: \", SP)"
   ]
  },
  {
   "cell_type": "code",
   "execution_count": 224,
   "metadata": {},
   "outputs": [
    {
     "name": "stdout",
     "output_type": "stream",
     "text": [
      "true\n",
      "true\n",
      "true"
     ]
    }
   ],
   "source": [
    "#Verify that staker B still has originally-weighted assets and balances (see above for values)\n",
    "show(B_ETH_lt/ETH_lt * ETH_balance == B_ETH_stake)\n",
    "println()\n",
    "show(B_token_lt/token_lt * token_balance == B_token_stake)\n",
    "println()\n",
    "show(round((B_token_lt/token_lt * token_balance) / ((B_ETH_lt/ETH_lt * ETH_balance)*SP), digits = 5) ==\n",
    "    round(B_weight[2]/B_weight[1], digits = 5))"
   ]
  },
  {
   "cell_type": "code",
   "execution_count": 225,
   "metadata": {},
   "outputs": [
    {
     "name": "stdout",
     "output_type": "stream",
     "text": [
      "Tokens sold: 7000\n",
      "ETH received: 36.39725206026378\n",
      "\n",
      "V: 17152.537933040985\n",
      "SP: 194.676746822169\n"
     ]
    }
   ],
   "source": [
    "#Does it work with swaps?\n",
    "\n",
    "#sell tokens (buy ETH)\n",
    "\n",
    "V = ETH_balance^ETH_weight * token_balance^token_weight #update invariant (should not change from swap)\n",
    "\n",
    "sale = 7000 #how many tokens to send to contract (swap for ETH)\n",
    "token_balance += sale #add sale tokens to contract\n",
    "old_ETH_balance = ETH_balance #store for calculation below\n",
    "ETH_balance = e^((log(V / (token_balance^token_weight)))/ETH_weight) #update ETH balance according to sale\n",
    "ETH_received = old_ETH_balance - ETH_balance #ETH received for swapped tokens\n",
    "println(\"Tokens sold: \", sale)\n",
    "println(\"ETH received: \", ETH_received)\n",
    "println()\n",
    "\n",
    "V = ETH_balance^ETH_weight * token_balance^token_weight #update invariant (should not chance)\n",
    "SP = (token_balance/token_weight) / (ETH_balance/ETH_weight) \n",
    "println(\"V: \", V)\n",
    "println(\"SP: \", SP)"
   ]
  },
  {
   "cell_type": "code",
   "execution_count": 226,
   "metadata": {},
   "outputs": [
    {
     "name": "stdout",
     "output_type": "stream",
     "text": [
      "true\n",
      "true\n",
      "true\n"
     ]
    }
   ],
   "source": [
    "#Verify that staker A,B,C still have originally-weighted assets \n",
    "#balances will have changed b/c of swap, but weithed ratio should remain constant\n",
    "\n",
    "println(round((A_token_lt/token_lt * token_balance) / ((A_ETH_lt/ETH_lt * ETH_balance)*SP), digits = 5) ==\n",
    "    round(A_weight[2]/A_weight[1], digits = 5))\n",
    "\n",
    "println(round(((B_ETH_lt/ETH_lt * ETH_balance)*SP) / (B_token_lt/token_lt * token_balance), digits = 5) ==\n",
    "    round(B_weight[1]/B_weight[2], digits = 5))\n",
    "\n",
    "println(round(((C_ETH_lt/ETH_lt * ETH_balance)*SP) / (C_token_lt/token_lt * token_balance), digits = 5) ==\n",
    "    round(C_weight[1]/C_weight[2], digits = 5))"
   ]
  },
  {
   "cell_type": "code",
   "execution_count": 227,
   "metadata": {},
   "outputs": [
    {
     "name": "stdout",
     "output_type": "stream",
     "text": [
      "ETH sold: 20\n",
      "tokens received: 3867.6538681865786\n",
      "\n",
      "V: 17152.5376042283\n",
      "SP: 192.09073235980034\n"
     ]
    }
   ],
   "source": [
    "#sell ETH (buy tokens)\n",
    "V = ETH_balance^ETH_weight * token_balance^token_weight #update invariant (should not change from swap)\n",
    "\n",
    "sale = 20 #how much ETH sent to contract (swapped for tokens)\n",
    "old_token_balance = token_balance #store for calculation below\n",
    "ETH_balance += sale \n",
    "token_balance = e^((log(V / (ETH_balance^ETH_weight)))/token_weight) #update token balance according to sale\n",
    "tokens_received = old_token_balance - token_balance\n",
    "println(\"ETH sold: \", sale)\n",
    "println(\"tokens received: \", tokens_received)\n",
    "println()\n",
    "\n",
    "V = ETH_balance^ETH_weight * token_balance^token_weight\n",
    "SP = (token_balance/token_weight) / (ETH_balance/ETH_weight) \n",
    "println(\"V: \", V)\n",
    "println(\"SP: \", SP)"
   ]
  },
  {
   "cell_type": "code",
   "execution_count": 228,
   "metadata": {},
   "outputs": [
    {
     "name": "stdout",
     "output_type": "stream",
     "text": [
      "true\n",
      "true\n",
      "true\n"
     ]
    }
   ],
   "source": [
    "#Verify that staker A,B,C still have originally-weighted assets \n",
    "#balances will have changed b/c of swap, but weithed ratio should remain constant\n",
    "\n",
    "println(round((A_token_lt/token_lt * token_balance) / ((A_ETH_lt/ETH_lt * ETH_balance)*SP), digits = 5) ==\n",
    "    round(A_weight[2]/A_weight[1], digits = 5))\n",
    "\n",
    "println(round(((B_ETH_lt/ETH_lt * ETH_balance)*SP) / (B_token_lt/token_lt * token_balance), digits = 5) ==\n",
    "    round(B_weight[1]/B_weight[2], digits = 5))\n",
    "\n",
    "println(round(((C_ETH_lt/ETH_lt * ETH_balance)*SP) / (C_token_lt/token_lt * token_balance), digits = 5) ==\n",
    "    round(C_weight[1]/C_weight[2], digits = 5))"
   ]
  },
  {
   "cell_type": "code",
   "execution_count": 234,
   "metadata": {
    "scrolled": true
   },
   "outputs": [
    {
     "name": "stdout",
     "output_type": "stream",
     "text": [
      "Current relay price: 192.09073235980034\n",
      "Change in value of stake A: 127.74657960087279\n",
      "Change in value of stake B: 1341.3390858091589\n",
      "Change in value of stake C: 625.9582400442887\n"
     ]
    }
   ],
   "source": [
    "#Cumulative value of stakes A,B,C after stakes and swaps, relative to original\n",
    "#**In absolute terms**\n",
    "\n",
    "println(\"Current relay price: \", SP)\n",
    "print(\"Change in value of stake A: \")\n",
    "println((A_token_lt/token_lt * token_balance) + ((A_ETH_lt/ETH_lt * ETH_balance)*SP) - A_stake)\n",
    "print(\"Change in value of stake B: \")\n",
    "println((B_token_lt/token_lt * token_balance) + ((B_ETH_lt/ETH_lt * ETH_balance)*SP) - B_stake)\n",
    "print(\"Change in value of stake C: \")\n",
    "println((C_token_lt/token_lt * token_balance) + ((C_ETH_lt/ETH_lt * ETH_balance)*SP) - C_stake)"
   ]
  },
  {
   "cell_type": "code",
   "execution_count": 235,
   "metadata": {},
   "outputs": [
    {
     "name": "stdout",
     "output_type": "stream",
     "text": [
      "Current relay price: 192.09073235980034\n",
      "Change in value of stake A: 0.009412905865327469\n",
      "Change in value of stake B: 0.00941290586532743\n",
      "Change in value of stake C: 0.009412905865327649\n"
     ]
    }
   ],
   "source": [
    "#Cumulative value of stakes A,B,C after stakes and swaps, relative to original\n",
    "#**In percentile terms**\n",
    "#Note: if all stakes were made at same SP, they should have the same percentile change in value\n",
    "\n",
    "println(\"Current relay price: \", SP)\n",
    "print(\"Change in value of stake A: \")\n",
    "println(((A_token_lt/token_lt * token_balance) + ((A_ETH_lt/ETH_lt * ETH_balance)*SP) - A_stake)/A_stake)\n",
    "print(\"Change in value of stake B: \")\n",
    "println(((B_token_lt/token_lt * token_balance) + ((B_ETH_lt/ETH_lt * ETH_balance)*SP) - B_stake)/B_stake)\n",
    "print(\"Change in value of stake C: \")\n",
    "println(((C_token_lt/token_lt * token_balance) + ((C_ETH_lt/ETH_lt * ETH_balance)*SP) - C_stake)/C_stake)"
   ]
  }
 ],
 "metadata": {
  "kernelspec": {
   "display_name": "Julia 1.1.1",
   "language": "julia",
   "name": "julia-1.1"
  },
  "language_info": {
   "file_extension": ".jl",
   "mimetype": "application/julia",
   "name": "julia",
   "version": "1.1.1"
  }
 },
 "nbformat": 4,
 "nbformat_minor": 2
}
